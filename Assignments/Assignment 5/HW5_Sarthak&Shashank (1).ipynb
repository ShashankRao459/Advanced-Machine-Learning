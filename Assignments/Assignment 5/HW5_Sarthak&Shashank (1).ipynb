{
  "cells": [
    {
      "cell_type": "markdown",
      "metadata": {
        "id": "p1sQ9BGHqBmZ"
      },
      "source": [
        "# HW 5 #\n",
        "### Total points: 80 ###"
      ]
    },
    {
      "cell_type": "markdown",
      "metadata": {
        "id": "a_ChjuHeAZP-"
      },
      "source": [
        "## Name(s) and EID(s):\n",
        "Sarthak Shivnani (ss223347) </br>\n",
        "Shashank Rao (sr55952)"
      ]
    },
    {
      "cell_type": "markdown",
      "metadata": {
        "id": "Y86kiHXJYHCy"
      },
      "source": [
        "If you prefer, you can work in groups of two. **Please note that only one student per team needs to submit the assignment but make sure to include both students' names and UT EIDs.**  \n",
        "\n",
        "For any question that requires a handwritten solution, you may upload scanned images of your solution in the notebook or attach them to the assignment . You may write your solution using markdown as well.\n",
        "\n",
        "Please make sure your code runs and the graphs and figures are displayed in your notebook and PDF before submitting."
      ]
    },
    {
      "cell_type": "markdown",
      "source": [
        "# Q1. Convolutional Neural Networks (20 points)\n",
        "Answer the following questions briefly (1 paragraph should suffice):\n",
        "\n",
        "## Part 1 (6 points)\n",
        "Why are skip connections useful in CNN architectures like ResNet? (*Hint: think about gradient propagation in very deep networks*)\n",
        "\n",
        "## Answer\n",
        "Skip connections, as utilized in architectures like ResNet, are integral to addressing the challenges associated with training deep neural networks, particularly the vanishing gradient problem. By allowing the gradients to bypass intermediate layers through residual connections, they facilitate improved gradient propagation during backpropagation. This mechanism ensures that information from earlier layers is preserved, enabling the network to learn residual mappings instead of directly modeling the underlying function. This approach simplifies optimization, mitigates the degradation problem (where deeper networks perform worse), and enhances the overall representational capacity of the network, making it more effective in learning complex hierarchical features.\n",
        "\n",
        "## Part 2 (7 points)\n",
        "How does batch normalization improve training in CNNs, and why is it generally used after a convolutional layer but before the activation function?\n",
        "\n",
        "## Answer\n",
        "Batch normalization significantly enhances training efficiency in CNNs by normalizing the input features to each layer based on the mean and variance computed across mini-batches. This normalization reduces the internal covariate shift, where the distribution of inputs to a layer changes during training, thus stabilizing the optimization process. It also enables the use of higher learning rates and acts as a regularizer, reducing overfitting. Batch normalization is typically applied after the convolutional layer but before the activation function to ensure that the normalized features are effectively scaled and shifted prior to applying non-linear transformations. This placement optimizes the learning dynamics and enhances the network's generalization ability.\n",
        "\n",
        "## Part 3 (7 points)\n",
        "Explain how the concept of translation invariance is achieved in CNNs and why it is an important property for visual recognition tasks.\n",
        "\n",
        "## Answer\n",
        "Translation invariance in CNNs is achieved through convolutional and pooling operations. Convolutional layers use shared weights and biases to detect patterns across different spatial locations, ensuring that the learned features are position-independent. Pooling layers, such as max pooling or average pooling, further contribute to translation invariance by summarizing feature activations within localized regions, reducing the sensitivity of the model to small positional variations in the input. This property is fundamental for visual recognition tasks as it allows the model to consistently recognize objects and patterns regardless of their spatial orientation or position within the image. Consequently, translation invariance enhances the robustness, generalization, and applicability of CNNs in real-world scenarios."
      ],
      "metadata": {
        "id": "M88ZD52vrTV6"
      }
    },
    {
      "cell_type": "markdown",
      "source": [
        "# Q2. Contrastive Learning (30 points)\n",
        "\n",
        "### Part 1 (5 points)\n",
        "Consider the example we saw in the class w.r.t Contrastive Learning (CL). We had two Cat images (say $C_1$, $C_2$) and one Bicycle image($B_1$), which we used for CL. However, if we only had one Cat image($C_1$) and one Bicycle image($B_1$), can we still do Contrastive Learning? If no, why?\n",
        "\n",
        "If yes, how? (ie, what will be my reference sample, positive sample, and negative sample?)\n",
        "### Answer\n",
        "Yes, it is feasible to perform contrastive learning with one Cat image (\n",
        "𝐶1\n",
        "​\n",
        " ) and one Bicycle image (\n",
        "𝐵1) by utilizing data augmentation techniques to create a positive sample for\n",
        "𝐶1\n",
        " . In this setup, the original Cat image (\n",
        "𝐶1\n",
        "​\n",
        " ) serves as the reference sample, while a positive sample is generated by applying transformations such as random cropping, rotation, flipping, or adding Gaussian noise. These augmentations ensure that the semantic content of the image remains intact while providing a varied version of it. The Bicycle image (\n",
        "𝐵1\n",
        "​\n",
        " ) acts as the negative sample, representing a semantically dissimilar image.\n",
        "\n",
        "The contrastive learning objective in this scenario is to maximize the similarity between the embeddings of the reference image (\n",
        "𝐶1\n",
        "​\n",
        " ) and its positive counterpart (augmented\n",
        "𝐶1\n",
        "​\n",
        " ), while simultaneously minimizing the similarity between the embeddings of the reference image and the negative sample (\n",
        "𝐵1\n",
        "​\n",
        " ). While this approach allows for the application of contrastive learning with minimal labeled data, its effectiveness may be limited due to the lack of diversity in the positive samples. Nonetheless, it highlights the adaptability of contrastive learning in scenarios where labeled data or a variety of samples is constrained.\n",
        "### Part 2 (5 points)\n",
        "We need labelled data for contrastive learning. True or False? Can you think of a real world example where contrastive learning is a better choice compared to the conventional training approach? (Caution: If you use ChatGPT to answer this question you might end up giving same example as other students)\n",
        "\n",
        "### Answer\n",
        "False. Contrastive learning does not inherently require labeled data, as it often operates in a self-supervised paradigm. Positive pairs are typically generated through data augmentation, ensuring that semantically similar representations are learned, while negative pairs are sampled from other instances in the dataset. This methodology enables contrastive learning to be particularly effective in domains where labeled data is scarce or expensive to obtain.\n",
        "\n",
        "A real-world example Contrastive learning would be for improving autonomous vehicle systems, as it enables robust generalization to diverse real-world scenarios like varying weather, lighting, and road conditions. By using positive pairs (e.g., different views of the same stop sign) and negative pairs (e.g., a stop sign vs. a yield sign), the model learns to embed similar scenes closer together and dissimilar ones further apart in latent space. This reduces reliance on extensive labeled datasets, enhances recognition of rare or partially visible scenarios, and scales efficiently to new environments. This method ensures safer and more reliable performance for autonomous driving systems while streamlining data processing and model adaptation.\n",
        "\n",
        "### Part 3 (20 points)\n",
        "\n",
        "Let us now mimic contrastive learning on a toy example to get a feeling of how it helps learn better representations for the data samples (After all, the entire Deep Learning is, in someway, learning to represent the data accurately)\n",
        "\n",
        "We will pick the same example again. Consider three 32x32 images $C_1, C_2, B_1$. We use random values to fill the three images.\n",
        "\n",
        "**What's more important is to ensure that C1 is more similar to C2 than B1, for the algorithm to work!**\n",
        "\n",
        "Part 3.0 (3 points) Please initialize C1 and B1. C2 has been filled for you, which you can see, is just a slightly noisy version of C1."
      ],
      "metadata": {
        "id": "vy9Kbwlyl40a"
      }
    },
    {
      "cell_type": "code",
      "source": [
        "# Install required libraries (if not already installed)\n",
        "!pip install torch torchvision\n",
        "!pip install matplotlib\n",
        "!pip install scikit-learn"
      ],
      "metadata": {
        "colab": {
          "base_uri": "https://localhost:8080/"
        },
        "id": "KlpqQ3wCLfu4",
        "outputId": "555af31f-f327-4329-b072-237efd55d305"
      },
      "execution_count": 1,
      "outputs": [
        {
          "output_type": "stream",
          "name": "stdout",
          "text": [
            "Requirement already satisfied: torch in /usr/local/lib/python3.10/dist-packages (2.5.1+cu121)\n",
            "Requirement already satisfied: torchvision in /usr/local/lib/python3.10/dist-packages (0.20.1+cu121)\n",
            "Requirement already satisfied: filelock in /usr/local/lib/python3.10/dist-packages (from torch) (3.16.1)\n",
            "Requirement already satisfied: typing-extensions>=4.8.0 in /usr/local/lib/python3.10/dist-packages (from torch) (4.12.2)\n",
            "Requirement already satisfied: networkx in /usr/local/lib/python3.10/dist-packages (from torch) (3.4.2)\n",
            "Requirement already satisfied: jinja2 in /usr/local/lib/python3.10/dist-packages (from torch) (3.1.4)\n",
            "Requirement already satisfied: fsspec in /usr/local/lib/python3.10/dist-packages (from torch) (2024.10.0)\n",
            "Requirement already satisfied: sympy==1.13.1 in /usr/local/lib/python3.10/dist-packages (from torch) (1.13.1)\n",
            "Requirement already satisfied: mpmath<1.4,>=1.1.0 in /usr/local/lib/python3.10/dist-packages (from sympy==1.13.1->torch) (1.3.0)\n",
            "Requirement already satisfied: numpy in /usr/local/lib/python3.10/dist-packages (from torchvision) (1.26.4)\n",
            "Requirement already satisfied: pillow!=8.3.*,>=5.3.0 in /usr/local/lib/python3.10/dist-packages (from torchvision) (11.0.0)\n",
            "Requirement already satisfied: MarkupSafe>=2.0 in /usr/local/lib/python3.10/dist-packages (from jinja2->torch) (3.0.2)\n",
            "Requirement already satisfied: matplotlib in /usr/local/lib/python3.10/dist-packages (3.8.0)\n",
            "Requirement already satisfied: contourpy>=1.0.1 in /usr/local/lib/python3.10/dist-packages (from matplotlib) (1.3.1)\n",
            "Requirement already satisfied: cycler>=0.10 in /usr/local/lib/python3.10/dist-packages (from matplotlib) (0.12.1)\n",
            "Requirement already satisfied: fonttools>=4.22.0 in /usr/local/lib/python3.10/dist-packages (from matplotlib) (4.55.0)\n",
            "Requirement already satisfied: kiwisolver>=1.0.1 in /usr/local/lib/python3.10/dist-packages (from matplotlib) (1.4.7)\n",
            "Requirement already satisfied: numpy<2,>=1.21 in /usr/local/lib/python3.10/dist-packages (from matplotlib) (1.26.4)\n",
            "Requirement already satisfied: packaging>=20.0 in /usr/local/lib/python3.10/dist-packages (from matplotlib) (24.2)\n",
            "Requirement already satisfied: pillow>=6.2.0 in /usr/local/lib/python3.10/dist-packages (from matplotlib) (11.0.0)\n",
            "Requirement already satisfied: pyparsing>=2.3.1 in /usr/local/lib/python3.10/dist-packages (from matplotlib) (3.2.0)\n",
            "Requirement already satisfied: python-dateutil>=2.7 in /usr/local/lib/python3.10/dist-packages (from matplotlib) (2.8.2)\n",
            "Requirement already satisfied: six>=1.5 in /usr/local/lib/python3.10/dist-packages (from python-dateutil>=2.7->matplotlib) (1.16.0)\n",
            "Requirement already satisfied: scikit-learn in /usr/local/lib/python3.10/dist-packages (1.5.2)\n",
            "Requirement already satisfied: numpy>=1.19.5 in /usr/local/lib/python3.10/dist-packages (from scikit-learn) (1.26.4)\n",
            "Requirement already satisfied: scipy>=1.6.0 in /usr/local/lib/python3.10/dist-packages (from scikit-learn) (1.13.1)\n",
            "Requirement already satisfied: joblib>=1.2.0 in /usr/local/lib/python3.10/dist-packages (from scikit-learn) (1.4.2)\n",
            "Requirement already satisfied: threadpoolctl>=3.1.0 in /usr/local/lib/python3.10/dist-packages (from scikit-learn) (3.5.0)\n"
          ]
        }
      ]
    },
    {
      "cell_type": "code",
      "source": [
        "import torch\n",
        "import torch.nn as nn\n",
        "import torch.nn.functional as F\n",
        "import matplotlib.pyplot as plt\n",
        "from sklearn.manifold import TSNE\n",
        "import numpy as np\n",
        "import random\n",
        "import torchvision.transforms.functional as TF\n",
        "\n",
        "# Set random seed for reproducibility\n",
        "random_seed = 16\n",
        "\n",
        "random.seed(random_seed)\n",
        "torch.manual_seed(random_seed)\n",
        "torch.cuda.manual_seed(random_seed)\n",
        "torch.backends.cudnn.deterministic = True\n",
        "torch.backends.cudnn.benchmark = False\n",
        "np.random.seed(random_seed)\n",
        "\n",
        "# Define sample images for cats (C1, C2) and bicycle (B1)\n",
        "C1 = torch.randn(3, 32, 32)  # Cat image 1, initialized with random values\n",
        "C2 = C1 + 0.5 * torch.randn(3, 32, 32)  # Cat image 2, same as C1 with slight noise\n",
        "B1 = torch.randn(3, 32, 32)  # Bicycle image, initialized with random values\n"
      ],
      "metadata": {
        "id": "V3GkRzzAtaHH"
      },
      "execution_count": 2,
      "outputs": []
    },
    {
      "cell_type": "markdown",
      "source": [
        "We have provided you with an Encoder (SimpleEncoder) that generates vector representation for an input image. Note how the encoder uses Convolution to generate vector representation of an image.\n",
        "\n",
        "Part 3.1 (2 points) Please complete the forward pass of the Encoder module"
      ],
      "metadata": {
        "id": "dN1aGoHC0Oom"
      }
    },
    {
      "cell_type": "code",
      "source": [
        "class SimpleEncoder(nn.Module):\n",
        "    def __init__(self):\n",
        "        super(SimpleEncoder, self).__init__()\n",
        "        self.conv = nn.Conv2d(3, 16, kernel_size=3, stride=2, padding=1)\n",
        "        self.fc = nn.Linear(16 * 16 * 16, 128)\n",
        "\n",
        "    def forward(self, x):\n",
        "        # Pass x through conv layer\n",
        "        x = self.conv(x)  # Apply the convolutional layer\n",
        "        x = x.view(x.size(0), -1)\n",
        "        # Pass x through the Fully Connected Layer\n",
        "        x = self.fc(x)  # Apply the fully connected layer\n",
        "        return F.normalize(x, p=2, dim=1)\n",
        "\n",
        "# Function for contrastive loss as in previous example\n",
        "def contrastive_loss(anchor, positive, negatives, temperature=0.5):\n",
        "    pos_sim = F.cosine_similarity(anchor.unsqueeze(0), positive.unsqueeze(0))\n",
        "    pos_loss = -torch.log(torch.exp(pos_sim / temperature))\n",
        "    neg_loss = sum(-torch.log(1 - torch.exp(F.cosine_similarity(anchor.unsqueeze(0), neg.unsqueeze(0)) / temperature))\n",
        "                   for neg in negatives)\n",
        "    return pos_loss + neg_loss\n"
      ],
      "metadata": {
        "id": "9g8HgKA50NLk"
      },
      "execution_count": 3,
      "outputs": []
    },
    {
      "cell_type": "markdown",
      "source": [
        "Part 3.2 (5 points)\n",
        "Get embeddings for the images. Build the positive and negative pairs. Code for doing contrastive learning on these pairs is already given to you."
      ],
      "metadata": {
        "id": "eQgLO4wKfEWC"
      }
    },
    {
      "cell_type": "code",
      "source": [
        "# Instantiate encoder and generate initial embeddings\n",
        "encoder = SimpleEncoder()\n",
        "images = torch.stack([C1, C2, B1])  # Stack images into a batch\n",
        "\n",
        "# Get initial_embeddings for the images using encoder\n",
        "initial_embeddings = encoder(images).detach()  # Detach to avoid tracking gradients\n",
        "\n",
        "# Train encoder to minimize contrastive loss (one simple update step as an example)\n",
        "optimizer = torch.optim.Adam(encoder.parameters(), lr=0.01)\n",
        "\n",
        "# Run few passes of training (we don't want it to overfit given a single sample)\n",
        "for _ in range(1):\n",
        "    embeddings = encoder(images)\n",
        "    # Build positive and negative pairs\n",
        "    pos_pair = (embeddings[0], embeddings[1])  # Positive pair (C1, C2)\n",
        "    neg_pair1 = (embeddings[0], embeddings[2])  # Negative pair (C1, B1)\n",
        "    neg_pair2 = (embeddings[1], embeddings[2])  # Negative pair (C2, B1)\n",
        "\n",
        "    # Contrastive loss as before\n",
        "    loss1 = contrastive_loss(pos_pair[0], pos_pair[1], [neg_pair1[1]])\n",
        "    loss2 = contrastive_loss(pos_pair[1], pos_pair[0], [neg_pair2[1]])\n",
        "    total_loss = (loss1 + loss2) / 2\n",
        "\n",
        "    optimizer.zero_grad()\n",
        "    total_loss.backward()\n",
        "    optimizer.step()\n",
        "\n",
        "encoder.eval()\n",
        "with torch.no_grad():\n",
        "    trained_embeddings = encoder(images).detach()"
      ],
      "metadata": {
        "id": "-SsvLYmXfDlx"
      },
      "execution_count": 4,
      "outputs": []
    },
    {
      "cell_type": "markdown",
      "source": [
        "###Cosine Similarity between embeddings\n",
        "The cosine similarity between embeddings would change once you run the CL algorithm. Run the below cell to observe the cosine similarities and answer the question that follows."
      ],
      "metadata": {
        "id": "OvfzSh4ffm5u"
      }
    },
    {
      "cell_type": "code",
      "source": [
        "from torch.nn.functional import cosine_similarity\n",
        "\n",
        "# Function to compute and print cosine similarities\n",
        "def print_cosine_similarities(embeddings, stage=\"\"):\n",
        "    # Calculate cosine similarities\n",
        "    sim_C1_C2 = cosine_similarity(embeddings[0].unsqueeze(0), embeddings[1].unsqueeze(0)).item()\n",
        "    sim_C1_B1 = cosine_similarity(embeddings[0].unsqueeze(0), embeddings[2].unsqueeze(0)).item()\n",
        "    sim_C2_B1 = cosine_similarity(embeddings[1].unsqueeze(0), embeddings[2].unsqueeze(0)).item()\n",
        "\n",
        "    # Print similarities\n",
        "    print(f\"Cosine Similarities {stage}:\")\n",
        "    print(f\"Similarity between C1 and C2 (positive pair): {sim_C1_C2:.4f}\")\n",
        "    print(f\"Similarity between C1 and B1 (negative pair): {sim_C1_B1:.4f}\")\n",
        "    print(f\"Similarity between C2 and B1 (negative pair): {sim_C2_B1:.4f}\\n\")\n",
        "\n",
        "# Cosine similarities before training\n",
        "print_cosine_similarities(initial_embeddings, stage=\"Before Contrastive Learning\")\n",
        "\n",
        "# Cosine similarities after training\n",
        "print_cosine_similarities(trained_embeddings, stage=\"After Contrastive Learning\")\n"
      ],
      "metadata": {
        "id": "ZTDvY1YuxRCx",
        "colab": {
          "base_uri": "https://localhost:8080/"
        },
        "outputId": "07800702-74cc-43d2-fba1-819cdcf0d767"
      },
      "execution_count": 5,
      "outputs": [
        {
          "output_type": "stream",
          "name": "stdout",
          "text": [
            "Cosine Similarities Before Contrastive Learning:\n",
            "Similarity between C1 and C2 (positive pair): 0.9193\n",
            "Similarity between C1 and B1 (negative pair): 0.1696\n",
            "Similarity between C2 and B1 (negative pair): 0.1561\n",
            "\n",
            "Cosine Similarities After Contrastive Learning:\n",
            "Similarity between C1 and C2 (positive pair): 0.9980\n",
            "Similarity between C1 and B1 (negative pair): 0.0626\n",
            "Similarity between C2 and B1 (negative pair): 0.0586\n",
            "\n"
          ]
        }
      ]
    },
    {
      "cell_type": "markdown",
      "source": [
        "Part 3.3(5 points) Comment on the cosine similarities before and after the contrastive learning."
      ],
      "metadata": {
        "id": "6jvAlTQIbR8M"
      }
    },
    {
      "cell_type": "markdown",
      "source": [
        "Contrastive learning has significantly improved the quality of embeddings by enhancing the separation between positive and negative pairs. Before contrastive learning, the positive pair (\\(C1\\) and \\(C2\\)) exhibited a high cosine similarity of \\(0.9193\\), indicating some closeness in the original representation. However, the negative pairs (\\(C1\\) and \\(B1\\); \\(C2\\) and \\(B1\\)) had similarities of \\(0.1696\\) and \\(0.1561\\), suggesting insufficient separation between dissimilar items in the latent space. This implies that the pre-contrastive learning embeddings were not fully optimized for distinguishing between similar and dissimilar items.\n",
        "\n",
        "After contrastive learning, the model has clearly learned to create a more meaningful representation space. The cosine similarity for the positive pair increased to \\(0.9980\\), showing near-perfect clustering of similar items. Conversely, the similarities for negative pairs dropped significantly to \\(0.0626\\) and \\(0.0586\\), demonstrating a stronger divergence between dissimilar items. These results highlight the effectiveness of contrastive learning in refining embeddings, making it more suitable for applications like similarity search, clustering, or classification."
      ],
      "metadata": {
        "id": "jvfhHL53OgUN"
      }
    },
    {
      "cell_type": "markdown",
      "source": [
        "### Plotting the embeddings\n",
        "To visualize the relative change in position before and after CL, we have provided code that uses PCA to plot the embeddings on a 2-D space. Run and generate the plot and then answer the question that follows."
      ],
      "metadata": {
        "id": "dCtZtR3Wf1jr"
      }
    },
    {
      "cell_type": "code",
      "source": [
        "from sklearn.decomposition import PCA\n",
        "# Function to plot embeddings using PCA\n",
        "def plot_embeddings(initial_embeddings, trained_embeddings, labels):\n",
        "    # Combine embeddings before and after CL\n",
        "    embeddings_combined = torch.cat([initial_embeddings, trained_embeddings], dim=0).cpu().numpy()\n",
        "\n",
        "    # Apply PCA\n",
        "    pca = PCA(n_components=2)\n",
        "    embeddings_2d = pca.fit_transform(embeddings_combined)\n",
        "\n",
        "    # Define markers and colors for before and after\n",
        "    markers = ['o', 's']  # Circle for 'Before', Square for 'After'\n",
        "    colors = ['red', 'red', 'blue']\n",
        "\n",
        "    plt.figure(figsize=(8, 6))\n",
        "    # Plot before contrastive learning (initial embeddings)\n",
        "    for i in range(3):\n",
        "        plt.scatter(embeddings_2d[i, 0], embeddings_2d[i, 1], label=f'{labels[i]} Before', color=colors[i], marker=markers[0], s=100)\n",
        "\n",
        "    # Plot after contrastive learning (trained embeddings)\n",
        "    for i in range(3, 6):\n",
        "        plt.scatter(embeddings_2d[i, 0], embeddings_2d[i, 1], label=f'{labels[i-3]} After', color=colors[i-3], marker=markers[1], s=100)\n",
        "\n",
        "    plt.title(\"Embedding Visualization: Before and After Contrastive Learning\")\n",
        "    plt.legend()\n",
        "    plt.show()\n",
        "\n",
        "# Labels for the images\n",
        "labels = [\"Cat C1\", \"Cat C2\", \"Bicycle B1\"]\n",
        "\n",
        "# Plot combined before and after embeddings\n",
        "plot_embeddings(initial_embeddings, trained_embeddings, labels)"
      ],
      "metadata": {
        "id": "9Kg2qYWCyjS5",
        "colab": {
          "base_uri": "https://localhost:8080/",
          "height": 545
        },
        "outputId": "cfa5a8f0-0552-49ac-90dd-12db70e2fa2a"
      },
      "execution_count": 6,
      "outputs": [
        {
          "output_type": "display_data",
          "data": {
            "text/plain": [
              "<Figure size 800x600 with 1 Axes>"
            ],
            "image/png": "[encoded data removed]"
          },
          "metadata": {}
        }
      ]
    },
    {
      "cell_type": "markdown",
      "source": [
        "Part 3.4 (5 points) Comment on the above chart. Do you see the points moving around? Do they make sense to you?"
      ],
      "metadata": {
        "id": "XLQlnzHfeMJx"
      }
    },
    {
      "cell_type": "markdown",
      "source": [
        "The chart illustrates how embeddings for \"Cat\" and \"Bicycle\" items evolve before and after contrastive learning. Initially, the embeddings of the positive pair (\"Cat C1\" and \"Cat C2\") are relatively close, reflecting some recognition of similarity by the model. However, the negative pair (\"Bicycle B1\" and the \"Cat\" embeddings) is not significantly far apart, indicating that the model struggles to effectively separate dissimilar classes in the latent space.\n",
        "\n",
        "After applying contrastive learning, the embeddings of the positive pair (\"Cat C1\" and \"Cat C2\") move significantly closer together, demonstrating improved clustering of similar items. Meanwhile, the embedding for the negative pair (\"Bicycle B1\") moves further away from the \"Cat\" embeddings, showcasing the model's enhanced ability to distinguish between dissimilar items. This separation highlights the effectiveness of contrastive learning in refining the embedding space.\n",
        "\n",
        "This movement aligns perfectly with the objectives of contrastive learning, which aims to group similar items together while pushing dissimilar ones apart. By restructuring the latent space in this way, contrastive learning improves the meaningfulness of the learned embeddings, enabling better performance in downstream tasks such as classification, clustering, or similarity-based retrieval.\n",
        "\n",
        "\n",
        "\n",
        "\n",
        "\n",
        "\n"
      ],
      "metadata": {
        "id": "dxDKkks9O8PX"
      }
    },
    {
      "cell_type": "code",
      "source": [],
      "metadata": {
        "id": "OIxsphuByzbe"
      },
      "execution_count": null,
      "outputs": []
    }
  ],
  "metadata": {
    "colab": {
      "provenance": []
    },
    "kernelspec": {
      "display_name": "Python 3",
      "name": "python3"
    },
    "language_info": {
      "name": "python"
    }
  },
  "nbformat": 4,
  "nbformat_minor": 0
}